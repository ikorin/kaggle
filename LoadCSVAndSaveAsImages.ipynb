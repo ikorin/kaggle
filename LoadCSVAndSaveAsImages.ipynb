{
 "cells": [
  {
   "cell_type": "markdown",
   "metadata": {},
   "source": [
    "# Generate BMP images from CSV file"
   ]
  },
  {
   "cell_type": "code",
   "execution_count": 9,
   "metadata": {},
   "outputs": [],
   "source": [
    "import os\n",
    "import sys\n",
    "import csv\n",
    "import uuid\n",
    "\n",
    "import numpy as np\n",
    "from PIL import Image"
   ]
  },
  {
   "cell_type": "code",
   "execution_count": 10,
   "metadata": {},
   "outputs": [],
   "source": [
    "INPUT_CSV_FILE = os.path.expanduser('~/Downloads/train.csv')\n",
    "OUTPUT_DIGITS_FOLDER = os.path.expanduser('~/Downloads/digits')\n",
    "IMAGE_WIDTH = 28\n",
    "IMAGE_HEIGHT = 28"
   ]
  },
  {
   "cell_type": "code",
   "execution_count": 11,
   "metadata": {},
   "outputs": [],
   "source": [
    "def read_digits(filename):\n",
    "    with open(filename) as f:\n",
    "        reader = csv.reader(f)\n",
    "        reader.next()\n",
    "        for row in reader:\n",
    "            digit = int(row[0])\n",
    "            pixels = [int(pixel) for pixel in row[1:]]\n",
    "            yield (digit, pixels)"
   ]
  },
  {
   "cell_type": "code",
   "execution_count": 12,
   "metadata": {},
   "outputs": [],
   "source": [
    "def save_pixels_as_image(output_folder, pixels):\n",
    "    a = np.array(pixels)\n",
    "    a.resize((IMAGE_WIDTH, IMAGE_HEIGHT))\n",
    "    im = Image.fromarray(np.uint8(a), mode='L')\n",
    "    filename = os.path.join(output_folder, str(uuid.uuid1()) + '.bmp')\n",
    "    im.save(filename)"
   ]
  },
  {
   "cell_type": "code",
   "execution_count": 13,
   "metadata": {},
   "outputs": [],
   "source": [
    "def save_as_images(input_file, output_folder):\n",
    "    if not os.path.exists(output_folder):\n",
    "        os.mkdir(output_folder)\n",
    "    for i in range(0, 10):\n",
    "        single_digit_folder = os.path.join(output_folder, str(i))\n",
    "        if not os.path.exists(single_digit_folder):\n",
    "            os.mkdir(single_digit_folder)\n",
    "    for (digit, pixels) in read_digits(input_file):\n",
    "        single_digit_folder = os.path.join(output_folder, str(digit))\n",
    "        save_pixels_as_image(single_digit_folder, pixels)"
   ]
  },
  {
   "cell_type": "code",
   "execution_count": 14,
   "metadata": {},
   "outputs": [],
   "source": [
    "save_as_images(INPUT_CSV_FILE, OUTPUT_DIGITS_FOLDER)"
   ]
  }
 ],
 "metadata": {
  "kernelspec": {
   "display_name": "Python 2",
   "language": "python",
   "name": "python2"
  },
  "language_info": {
   "codemirror_mode": {
    "name": "ipython",
    "version": 2
   },
   "file_extension": ".py",
   "mimetype": "text/x-python",
   "name": "python",
   "nbconvert_exporter": "python",
   "pygments_lexer": "ipython2",
   "version": "2.7.10"
  }
 },
 "nbformat": 4,
 "nbformat_minor": 2
}
